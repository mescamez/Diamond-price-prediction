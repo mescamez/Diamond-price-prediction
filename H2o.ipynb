{
 "cells": [
  {
   "cell_type": "code",
   "execution_count": 2,
   "metadata": {
    "colab": {
     "base_uri": "https://localhost:8080/",
     "height": 868
    },
    "colab_type": "code",
    "id": "RNviNpPbj19v",
    "outputId": "f38858b9-251d-468c-c83e-61338eaf19ea"
   },
   "outputs": [
    {
     "name": "stdout",
     "output_type": "stream",
     "text": [
      "Collecting h2o\n",
      "\u001b[?25l  Downloading https://files.pythonhosted.org/packages/7d/f3/0da4c917ae0d32295c69280dba7ea6f01127866b5cab95f235d3da80b2d2/h2o-3.30.0.2.tar.gz (129.6MB)\n",
      "\u001b[K     |████████████████████████████████| 129.6MB 78kB/s \n",
      "\u001b[?25hRequirement already satisfied: requests in /usr/local/lib/python3.6/dist-packages (from h2o) (2.23.0)\n",
      "Requirement already satisfied: tabulate in /usr/local/lib/python3.6/dist-packages (from h2o) (0.8.7)\n",
      "Requirement already satisfied: future in /usr/local/lib/python3.6/dist-packages (from h2o) (0.16.0)\n",
      "Collecting colorama>=0.3.8\n",
      "  Downloading https://files.pythonhosted.org/packages/c9/dc/45cdef1b4d119eb96316b3117e6d5708a08029992b2fee2c143c7a0a5cc5/colorama-0.4.3-py2.py3-none-any.whl\n",
      "Requirement already satisfied: chardet<4,>=3.0.2 in /usr/local/lib/python3.6/dist-packages (from requests->h2o) (3.0.4)\n",
      "Requirement already satisfied: idna<3,>=2.5 in /usr/local/lib/python3.6/dist-packages (from requests->h2o) (2.9)\n",
      "Requirement already satisfied: certifi>=2017.4.17 in /usr/local/lib/python3.6/dist-packages (from requests->h2o) (2020.4.5.1)\n",
      "Requirement already satisfied: urllib3!=1.25.0,!=1.25.1,<1.26,>=1.21.1 in /usr/local/lib/python3.6/dist-packages (from requests->h2o) (1.24.3)\n",
      "Building wheels for collected packages: h2o\n",
      "  Building wheel for h2o (setup.py) ... \u001b[?25l\u001b[?25hdone\n",
      "  Created wheel for h2o: filename=h2o-3.30.0.2-py2.py3-none-any.whl size=129672980 sha256=e5c2326fb99da8ac60bc3144b8f50a7bd68e7e2141abb353157f9af11018b7d4\n",
      "  Stored in directory: /root/.cache/pip/wheels/35/f0/d4/2090fb81ef10fd3dedffd1386a8a4d79b882e8e978fbee4e14\n",
      "Successfully built h2o\n",
      "Installing collected packages: colorama, h2o\n",
      "Successfully installed colorama-0.4.3 h2o-3.30.0.2\n",
      "Checking whether there is an H2O instance running at http://localhost:54321 ..... not found.\n",
      "Attempting to start a local H2O server...\n",
      "  Java Version: openjdk version \"11.0.7\" 2020-04-14; OpenJDK Runtime Environment (build 11.0.7+10-post-Ubuntu-2ubuntu218.04); OpenJDK 64-Bit Server VM (build 11.0.7+10-post-Ubuntu-2ubuntu218.04, mixed mode, sharing)\n",
      "  Starting server from /usr/local/lib/python3.6/dist-packages/h2o/backend/bin/h2o.jar\n",
      "  Ice root: /tmp/tmpou_q2jw9\n",
      "  JVM stdout: /tmp/tmpou_q2jw9/h2o_unknownUser_started_from_python.out\n",
      "  JVM stderr: /tmp/tmpou_q2jw9/h2o_unknownUser_started_from_python.err\n",
      "  Server is running at http://127.0.0.1:54321\n",
      "Connecting to H2O server at http://127.0.0.1:54321 ... successful.\n"
     ]
    },
    {
     "data": {
      "text/html": [
       "<div style=\"overflow:auto\"><table style=\"width:50%\"><tr><td>H2O_cluster_uptime:</td>\n",
       "<td>02 secs</td></tr>\n",
       "<tr><td>H2O_cluster_timezone:</td>\n",
       "<td>Etc/UTC</td></tr>\n",
       "<tr><td>H2O_data_parsing_timezone:</td>\n",
       "<td>UTC</td></tr>\n",
       "<tr><td>H2O_cluster_version:</td>\n",
       "<td>3.30.0.2</td></tr>\n",
       "<tr><td>H2O_cluster_version_age:</td>\n",
       "<td>12 days </td></tr>\n",
       "<tr><td>H2O_cluster_name:</td>\n",
       "<td>H2O_from_python_unknownUser_5aatgr</td></tr>\n",
       "<tr><td>H2O_cluster_total_nodes:</td>\n",
       "<td>1</td></tr>\n",
       "<tr><td>H2O_cluster_free_memory:</td>\n",
       "<td>3.180 Gb</td></tr>\n",
       "<tr><td>H2O_cluster_total_cores:</td>\n",
       "<td>2</td></tr>\n",
       "<tr><td>H2O_cluster_allowed_cores:</td>\n",
       "<td>2</td></tr>\n",
       "<tr><td>H2O_cluster_status:</td>\n",
       "<td>accepting new members, healthy</td></tr>\n",
       "<tr><td>H2O_connection_url:</td>\n",
       "<td>http://127.0.0.1:54321</td></tr>\n",
       "<tr><td>H2O_connection_proxy:</td>\n",
       "<td>{\"http\": null, \"https\": null}</td></tr>\n",
       "<tr><td>H2O_internal_security:</td>\n",
       "<td>False</td></tr>\n",
       "<tr><td>H2O_API_Extensions:</td>\n",
       "<td>Amazon S3, XGBoost, Algos, AutoML, Core V3, TargetEncoder, Core V4</td></tr>\n",
       "<tr><td>Python_version:</td>\n",
       "<td>3.6.9 final</td></tr></table></div>"
      ],
      "text/plain": [
       "--------------------------  ------------------------------------------------------------------\n",
       "H2O_cluster_uptime:         02 secs\n",
       "H2O_cluster_timezone:       Etc/UTC\n",
       "H2O_data_parsing_timezone:  UTC\n",
       "H2O_cluster_version:        3.30.0.2\n",
       "H2O_cluster_version_age:    12 days\n",
       "H2O_cluster_name:           H2O_from_python_unknownUser_5aatgr\n",
       "H2O_cluster_total_nodes:    1\n",
       "H2O_cluster_free_memory:    3.180 Gb\n",
       "H2O_cluster_total_cores:    2\n",
       "H2O_cluster_allowed_cores:  2\n",
       "H2O_cluster_status:         accepting new members, healthy\n",
       "H2O_connection_url:         http://127.0.0.1:54321\n",
       "H2O_connection_proxy:       {\"http\": null, \"https\": null}\n",
       "H2O_internal_security:      False\n",
       "H2O_API_Extensions:         Amazon S3, XGBoost, Algos, AutoML, Core V3, TargetEncoder, Core V4\n",
       "Python_version:             3.6.9 final\n",
       "--------------------------  ------------------------------------------------------------------"
      ]
     },
     "metadata": {
      "tags": []
     },
     "output_type": "display_data"
    }
   ],
   "source": [
    "!pip install h2o\n",
    "import h2o\n",
    "from h2o.automl import H2OAutoML\n",
    "h2o.init()"
   ]
  },
  {
   "cell_type": "code",
   "execution_count": 3,
   "metadata": {
    "colab": {
     "base_uri": "https://localhost:8080/",
     "height": 51
    },
    "colab_type": "code",
    "id": "VXOzskL7kCW-",
    "outputId": "56f2d67b-650b-4daf-c991-d1e00629ddae"
   },
   "outputs": [
    {
     "name": "stdout",
     "output_type": "stream",
     "text": [
      "Parse progress: |█████████████████████████████████████████████████████████| 100%\n",
      "Parse progress: |█████████████████████████████████████████████████████████| 100%\n"
     ]
    }
   ],
   "source": [
    "df_train = h2o.import_file('diamond_train_categoric.csv')\n",
    "def_test = h2o.import_file('diamond_test_categoric.csv')"
   ]
  },
  {
   "cell_type": "code",
   "execution_count": 4,
   "metadata": {
    "colab": {
     "base_uri": "https://localhost:8080/",
     "height": 485
    },
    "colab_type": "code",
    "id": "8lIwJMERlQ85",
    "outputId": "e268d5f4-5576-4f01-9e65-25554a58af08"
   },
   "outputs": [
    {
     "name": "stdout",
     "output_type": "stream",
     "text": [
      "Rows:40345\n",
      "Cols:11\n",
      "\n",
      "\n"
     ]
    },
    {
     "data": {
      "text/html": [
       "<table>\n",
       "<thead>\n",
       "<tr><th>       </th><th>C1                </th><th>carat             </th><th>cut               </th><th>color             </th><th>clarity          </th><th>depth             </th><th>table            </th><th>x                 </th><th>y                 </th><th>z                 </th><th>price             </th></tr>\n",
       "</thead>\n",
       "<tbody>\n",
       "<tr><td>type   </td><td>int               </td><td>real              </td><td>int               </td><td>int               </td><td>int              </td><td>real              </td><td>real             </td><td>real              </td><td>real              </td><td>real              </td><td>int               </td></tr>\n",
       "<tr><td>mins   </td><td>0.0               </td><td>0.2               </td><td>1.0               </td><td>1.0               </td><td>1.0              </td><td>43.0              </td><td>43.0             </td><td>0.0               </td><td>0.0               </td><td>0.0               </td><td>326.0             </td></tr>\n",
       "<tr><td>mean   </td><td>20172.0           </td><td>0.7956520014871732</td><td>3.9035320361878787</td><td>4.413235840872471 </td><td>4.058024538356675</td><td>61.75041269054408 </td><td>57.46030239187015</td><td>5.726106085016727 </td><td>5.730217127277235 </td><td>3.53513620027265  </td><td>3924.089924402031 </td></tr>\n",
       "<tr><td>maxs   </td><td>40344.0           </td><td>4.01              </td><td>5.0               </td><td>7.0               </td><td>8.0              </td><td>79.0              </td><td>95.0             </td><td>10.02             </td><td>58.9              </td><td>8.06              </td><td>18818.0           </td></tr>\n",
       "<tr><td>sigma  </td><td>11646.742641900639</td><td>0.470806232624306 </td><td>1.115487596946815 </td><td>1.6952428165146816</td><td>1.64863709684986 </td><td>1.4242189626935091</td><td>2.235333365868282</td><td>1.1186900649778622</td><td>1.1485841396807468</td><td>0.6936616360393568</td><td>3982.0005151071937</td></tr>\n",
       "<tr><td>zeros  </td><td>1                 </td><td>0                 </td><td>0                 </td><td>0                 </td><td>0                </td><td>0                 </td><td>0                </td><td>7                 </td><td>6                 </td><td>17                </td><td>0                 </td></tr>\n",
       "<tr><td>missing</td><td>0                 </td><td>0                 </td><td>0                 </td><td>0                 </td><td>0                </td><td>0                 </td><td>0                </td><td>0                 </td><td>0                 </td><td>0                 </td><td>0                 </td></tr>\n",
       "<tr><td>0      </td><td>0.0               </td><td>1.21              </td><td>5.0               </td><td>3.0               </td><td>4.0              </td><td>63.0              </td><td>57.0             </td><td>6.73              </td><td>6.7               </td><td>4.23              </td><td>6134.0            </td></tr>\n",
       "<tr><td>1      </td><td>1.0               </td><td>0.28              </td><td>3.0               </td><td>7.0               </td><td>6.0              </td><td>64.0              </td><td>56.0             </td><td>4.14              </td><td>4.17              </td><td>2.66              </td><td>532.0             </td></tr>\n",
       "<tr><td>2      </td><td>2.0               </td><td>0.42              </td><td>4.0               </td><td>5.0               </td><td>5.0              </td><td>61.2              </td><td>58.0             </td><td>4.86              </td><td>4.82              </td><td>2.96              </td><td>1103.0            </td></tr>\n",
       "<tr><td>3      </td><td>3.0               </td><td>0.26              </td><td>5.0               </td><td>3.0               </td><td>8.0              </td><td>61.1              </td><td>57.0             </td><td>4.16              </td><td>4.12              </td><td>2.53              </td><td>600.0             </td></tr>\n",
       "<tr><td>4      </td><td>4.0               </td><td>1.1               </td><td>2.0               </td><td>4.0               </td><td>3.0              </td><td>63.4              </td><td>57.0             </td><td>6.52              </td><td>6.55              </td><td>4.14              </td><td>4997.0            </td></tr>\n",
       "<tr><td>5      </td><td>5.0               </td><td>0.35              </td><td>5.0               </td><td>5.0               </td><td>3.0              </td><td>62.2              </td><td>56.0             </td><td>4.48              </td><td>4.52              </td><td>2.8               </td><td>583.0             </td></tr>\n",
       "<tr><td>6      </td><td>6.0               </td><td>0.31              </td><td>5.0               </td><td>2.0               </td><td>4.0              </td><td>62.3              </td><td>54.0             </td><td>4.37              </td><td>4.4               </td><td>2.73              </td><td>452.0             </td></tr>\n",
       "<tr><td>7      </td><td>7.0               </td><td>0.43              </td><td>4.0               </td><td>3.0               </td><td>3.0              </td><td>60.2              </td><td>57.0             </td><td>4.93              </td><td>4.91              </td><td>2.96              </td><td>919.0             </td></tr>\n",
       "<tr><td>8      </td><td>8.0               </td><td>0.51              </td><td>4.0               </td><td>2.0               </td><td>2.0              </td><td>60.4              </td><td>59.0             </td><td>5.2               </td><td>5.17              </td><td>3.13              </td><td>956.0             </td></tr>\n",
       "<tr><td>9      </td><td>9.0               </td><td>1.22              </td><td>5.0               </td><td>2.0               </td><td>5.0              </td><td>61.9              </td><td>55.7             </td><td>6.81              </td><td>6.84              </td><td>4.23              </td><td>6469.0            </td></tr>\n",
       "</tbody>\n",
       "</table>"
      ]
     },
     "metadata": {
      "tags": []
     },
     "output_type": "display_data"
    }
   ],
   "source": [
    "df_train.describe()"
   ]
  },
  {
   "cell_type": "code",
   "execution_count": 5,
   "metadata": {
    "colab": {
     "base_uri": "https://localhost:8080/",
     "height": 250
    },
    "colab_type": "code",
    "id": "UJvGFm44fUcY",
    "outputId": "7c8459ad-ccbb-4293-cb3e-bea7b172796a"
   },
   "outputs": [
    {
     "data": {
      "text/html": [
       "<table>\n",
       "<thead>\n",
       "<tr><th style=\"text-align: right;\">  carat</th><th style=\"text-align: right;\">  cut</th><th style=\"text-align: right;\">  color</th><th style=\"text-align: right;\">  clarity</th><th style=\"text-align: right;\">  depth</th><th style=\"text-align: right;\">  table</th><th style=\"text-align: right;\">   x</th><th style=\"text-align: right;\">   y</th><th style=\"text-align: right;\">   z</th><th style=\"text-align: right;\">  price</th></tr>\n",
       "</thead>\n",
       "<tbody>\n",
       "<tr><td style=\"text-align: right;\">   1.21</td><td style=\"text-align: right;\">    5</td><td style=\"text-align: right;\">      3</td><td style=\"text-align: right;\">        4</td><td style=\"text-align: right;\">   63  </td><td style=\"text-align: right;\">   57  </td><td style=\"text-align: right;\">6.73</td><td style=\"text-align: right;\">6.7 </td><td style=\"text-align: right;\">4.23</td><td style=\"text-align: right;\">   6134</td></tr>\n",
       "<tr><td style=\"text-align: right;\">   0.28</td><td style=\"text-align: right;\">    3</td><td style=\"text-align: right;\">      7</td><td style=\"text-align: right;\">        6</td><td style=\"text-align: right;\">   64  </td><td style=\"text-align: right;\">   56  </td><td style=\"text-align: right;\">4.14</td><td style=\"text-align: right;\">4.17</td><td style=\"text-align: right;\">2.66</td><td style=\"text-align: right;\">    532</td></tr>\n",
       "<tr><td style=\"text-align: right;\">   0.42</td><td style=\"text-align: right;\">    4</td><td style=\"text-align: right;\">      5</td><td style=\"text-align: right;\">        5</td><td style=\"text-align: right;\">   61.2</td><td style=\"text-align: right;\">   58  </td><td style=\"text-align: right;\">4.86</td><td style=\"text-align: right;\">4.82</td><td style=\"text-align: right;\">2.96</td><td style=\"text-align: right;\">   1103</td></tr>\n",
       "<tr><td style=\"text-align: right;\">   0.26</td><td style=\"text-align: right;\">    5</td><td style=\"text-align: right;\">      3</td><td style=\"text-align: right;\">        8</td><td style=\"text-align: right;\">   61.1</td><td style=\"text-align: right;\">   57  </td><td style=\"text-align: right;\">4.16</td><td style=\"text-align: right;\">4.12</td><td style=\"text-align: right;\">2.53</td><td style=\"text-align: right;\">    600</td></tr>\n",
       "<tr><td style=\"text-align: right;\">   1.1 </td><td style=\"text-align: right;\">    2</td><td style=\"text-align: right;\">      4</td><td style=\"text-align: right;\">        3</td><td style=\"text-align: right;\">   63.4</td><td style=\"text-align: right;\">   57  </td><td style=\"text-align: right;\">6.52</td><td style=\"text-align: right;\">6.55</td><td style=\"text-align: right;\">4.14</td><td style=\"text-align: right;\">   4997</td></tr>\n",
       "<tr><td style=\"text-align: right;\">   0.35</td><td style=\"text-align: right;\">    5</td><td style=\"text-align: right;\">      5</td><td style=\"text-align: right;\">        3</td><td style=\"text-align: right;\">   62.2</td><td style=\"text-align: right;\">   56  </td><td style=\"text-align: right;\">4.48</td><td style=\"text-align: right;\">4.52</td><td style=\"text-align: right;\">2.8 </td><td style=\"text-align: right;\">    583</td></tr>\n",
       "<tr><td style=\"text-align: right;\">   0.31</td><td style=\"text-align: right;\">    5</td><td style=\"text-align: right;\">      2</td><td style=\"text-align: right;\">        4</td><td style=\"text-align: right;\">   62.3</td><td style=\"text-align: right;\">   54  </td><td style=\"text-align: right;\">4.37</td><td style=\"text-align: right;\">4.4 </td><td style=\"text-align: right;\">2.73</td><td style=\"text-align: right;\">    452</td></tr>\n",
       "<tr><td style=\"text-align: right;\">   0.43</td><td style=\"text-align: right;\">    4</td><td style=\"text-align: right;\">      3</td><td style=\"text-align: right;\">        3</td><td style=\"text-align: right;\">   60.2</td><td style=\"text-align: right;\">   57  </td><td style=\"text-align: right;\">4.93</td><td style=\"text-align: right;\">4.91</td><td style=\"text-align: right;\">2.96</td><td style=\"text-align: right;\">    919</td></tr>\n",
       "<tr><td style=\"text-align: right;\">   0.51</td><td style=\"text-align: right;\">    4</td><td style=\"text-align: right;\">      2</td><td style=\"text-align: right;\">        2</td><td style=\"text-align: right;\">   60.4</td><td style=\"text-align: right;\">   59  </td><td style=\"text-align: right;\">5.2 </td><td style=\"text-align: right;\">5.17</td><td style=\"text-align: right;\">3.13</td><td style=\"text-align: right;\">    956</td></tr>\n",
       "<tr><td style=\"text-align: right;\">   1.22</td><td style=\"text-align: right;\">    5</td><td style=\"text-align: right;\">      2</td><td style=\"text-align: right;\">        5</td><td style=\"text-align: right;\">   61.9</td><td style=\"text-align: right;\">   55.7</td><td style=\"text-align: right;\">6.81</td><td style=\"text-align: right;\">6.84</td><td style=\"text-align: right;\">4.23</td><td style=\"text-align: right;\">   6469</td></tr>\n",
       "</tbody>\n",
       "</table>"
      ]
     },
     "metadata": {
      "tags": []
     },
     "output_type": "display_data"
    },
    {
     "data": {
      "text/plain": []
     },
     "execution_count": 5,
     "metadata": {
      "tags": []
     },
     "output_type": "execute_result"
    }
   ],
   "source": [
    "df_train.drop('C1')"
   ]
  },
  {
   "cell_type": "code",
   "execution_count": 0,
   "metadata": {
    "colab": {},
    "colab_type": "code",
    "id": "wZ8K5JCglWoK"
   },
   "outputs": [],
   "source": [
    "y = 'price'"
   ]
  },
  {
   "cell_type": "code",
   "execution_count": 0,
   "metadata": {
    "colab": {},
    "colab_type": "code",
    "id": "XAUT0Gv7klLJ"
   },
   "outputs": [],
   "source": [
    "splits = df_train.split_frame(ratios = [0.8], seed = 1)\n",
    "train = splits[0]\n",
    "test = splits[1]"
   ]
  },
  {
   "cell_type": "code",
   "execution_count": 8,
   "metadata": {
    "colab": {
     "base_uri": "https://localhost:8080/",
     "height": 34
    },
    "colab_type": "code",
    "id": "YIwIBCJulYkb",
    "outputId": "651e6aa0-3064-4f15-82cd-ee1314e07562"
   },
   "outputs": [
    {
     "name": "stdout",
     "output_type": "stream",
     "text": [
      "AutoML progress: |████████████████████████████████████████████████████████| 100%\n"
     ]
    }
   ],
   "source": [
    "aml = H2OAutoML(seed = 50, sort_metric='RMSE')\n",
    "aml.train(y = y, training_frame = df_train)"
   ]
  },
  {
   "cell_type": "code",
   "execution_count": 9,
   "metadata": {
    "colab": {
     "base_uri": "https://localhost:8080/",
     "height": 250
    },
    "colab_type": "code",
    "id": "mHBTqsR7lbAc",
    "outputId": "487ddc72-e5f4-46c8-b0ca-1ae84a7f57cf"
   },
   "outputs": [
    {
     "data": {
      "text/html": [
       "<table>\n",
       "<thead>\n",
       "<tr><th>model_id                                           </th><th style=\"text-align: right;\">   rmse</th><th style=\"text-align: right;\">  mean_residual_deviance</th><th style=\"text-align: right;\">   mse</th><th style=\"text-align: right;\">    mae</th><th style=\"text-align: right;\">    rmsle</th></tr>\n",
       "</thead>\n",
       "<tbody>\n",
       "<tr><td>StackedEnsemble_AllModels_AutoML_20200511_141213   </td><td style=\"text-align: right;\">524.004</td><td style=\"text-align: right;\">                  274580</td><td style=\"text-align: right;\">274580</td><td style=\"text-align: right;\">265.812</td><td style=\"text-align: right;\">0.0941223</td></tr>\n",
       "<tr><td>StackedEnsemble_BestOfFamily_AutoML_20200511_141213</td><td style=\"text-align: right;\">528.896</td><td style=\"text-align: right;\">                  279731</td><td style=\"text-align: right;\">279731</td><td style=\"text-align: right;\">266.999</td><td style=\"text-align: right;\">0.0939604</td></tr>\n",
       "<tr><td>GBM_3_AutoML_20200511_141213                       </td><td style=\"text-align: right;\">531.937</td><td style=\"text-align: right;\">                  282957</td><td style=\"text-align: right;\">282957</td><td style=\"text-align: right;\">270.867</td><td style=\"text-align: right;\">0.0980269</td></tr>\n",
       "<tr><td>GBM_grid__1_AutoML_20200511_141213_model_4         </td><td style=\"text-align: right;\">533.346</td><td style=\"text-align: right;\">                  284458</td><td style=\"text-align: right;\">284458</td><td style=\"text-align: right;\">278.458</td><td style=\"text-align: right;\">0.103061 </td></tr>\n",
       "<tr><td>GBM_2_AutoML_20200511_141213                       </td><td style=\"text-align: right;\">533.634</td><td style=\"text-align: right;\">                  284765</td><td style=\"text-align: right;\">284765</td><td style=\"text-align: right;\">275.143</td><td style=\"text-align: right;\">0.103839 </td></tr>\n",
       "<tr><td>GBM_grid__1_AutoML_20200511_141213_model_17        </td><td style=\"text-align: right;\">533.64 </td><td style=\"text-align: right;\">                  284772</td><td style=\"text-align: right;\">284772</td><td style=\"text-align: right;\">270.647</td><td style=\"text-align: right;\">0.0963183</td></tr>\n",
       "<tr><td>GBM_grid__1_AutoML_20200511_141213_model_16        </td><td style=\"text-align: right;\">534.745</td><td style=\"text-align: right;\">                  285952</td><td style=\"text-align: right;\">285952</td><td style=\"text-align: right;\">266.408</td><td style=\"text-align: right;\">0.0884669</td></tr>\n",
       "<tr><td>GBM_4_AutoML_20200511_141213                       </td><td style=\"text-align: right;\">535.972</td><td style=\"text-align: right;\">                  287266</td><td style=\"text-align: right;\">287266</td><td style=\"text-align: right;\">268.594</td><td style=\"text-align: right;\">0.0913447</td></tr>\n",
       "<tr><td>GBM_grid__1_AutoML_20200511_141213_model_8         </td><td style=\"text-align: right;\">536.053</td><td style=\"text-align: right;\">                  287353</td><td style=\"text-align: right;\">287353</td><td style=\"text-align: right;\">268.157</td><td style=\"text-align: right;\">0.0925912</td></tr>\n",
       "<tr><td>GBM_1_AutoML_20200511_141213                       </td><td style=\"text-align: right;\">536.115</td><td style=\"text-align: right;\">                  287420</td><td style=\"text-align: right;\">287420</td><td style=\"text-align: right;\">277.635</td><td style=\"text-align: right;\">0.101858 </td></tr>\n",
       "</tbody>\n",
       "</table>"
      ]
     },
     "metadata": {
      "tags": []
     },
     "output_type": "display_data"
    },
    {
     "data": {
      "text/plain": []
     },
     "execution_count": 9,
     "metadata": {
      "tags": []
     },
     "output_type": "execute_result"
    }
   ],
   "source": [
    "aml.leaderboard.head()"
   ]
  },
  {
   "cell_type": "code",
   "execution_count": 10,
   "metadata": {
    "colab": {
     "base_uri": "https://localhost:8080/",
     "height": 34
    },
    "colab_type": "code",
    "id": "BVNXfKH2l-k0",
    "outputId": "179e2a41-9aef-4ad0-e312-0e57871e6035"
   },
   "outputs": [
    {
     "name": "stdout",
     "output_type": "stream",
     "text": [
      "stackedensemble prediction progress: |████████████████████████████████████| 100%\n"
     ]
    }
   ],
   "source": [
    "pred = aml.leader.predict(def_test)"
   ]
  },
  {
   "cell_type": "code",
   "execution_count": 0,
   "metadata": {
    "colab": {},
    "colab_type": "code",
    "id": "FggTIT3DmBcc"
   },
   "outputs": [],
   "source": [
    "pred = pred.as_data_frame().reset_index()"
   ]
  },
  {
   "cell_type": "code",
   "execution_count": 12,
   "metadata": {
    "colab": {
     "base_uri": "https://localhost:8080/",
     "height": 204
    },
    "colab_type": "code",
    "id": "GDY0__22mDeL",
    "outputId": "996ec001-3cb4-4d4b-cee0-3e3e7375b131"
   },
   "outputs": [
    {
     "data": {
      "text/html": [
       "<div>\n",
       "<style scoped>\n",
       "    .dataframe tbody tr th:only-of-type {\n",
       "        vertical-align: middle;\n",
       "    }\n",
       "\n",
       "    .dataframe tbody tr th {\n",
       "        vertical-align: top;\n",
       "    }\n",
       "\n",
       "    .dataframe thead th {\n",
       "        text-align: right;\n",
       "    }\n",
       "</style>\n",
       "<table border=\"1\" class=\"dataframe\">\n",
       "  <thead>\n",
       "    <tr style=\"text-align: right;\">\n",
       "      <th></th>\n",
       "      <th>index</th>\n",
       "      <th>predict</th>\n",
       "    </tr>\n",
       "  </thead>\n",
       "  <tbody>\n",
       "    <tr>\n",
       "      <th>0</th>\n",
       "      <td>0</td>\n",
       "      <td>435.007140</td>\n",
       "    </tr>\n",
       "    <tr>\n",
       "      <th>1</th>\n",
       "      <td>1</td>\n",
       "      <td>1573.902907</td>\n",
       "    </tr>\n",
       "    <tr>\n",
       "      <th>2</th>\n",
       "      <td>2</td>\n",
       "      <td>9537.415183</td>\n",
       "    </tr>\n",
       "    <tr>\n",
       "      <th>3</th>\n",
       "      <td>3</td>\n",
       "      <td>535.582498</td>\n",
       "    </tr>\n",
       "    <tr>\n",
       "      <th>4</th>\n",
       "      <td>4</td>\n",
       "      <td>10121.177069</td>\n",
       "    </tr>\n",
       "  </tbody>\n",
       "</table>\n",
       "</div>"
      ],
      "text/plain": [
       "   index       predict\n",
       "0      0    435.007140\n",
       "1      1   1573.902907\n",
       "2      2   9537.415183\n",
       "3      3    535.582498\n",
       "4      4  10121.177069"
      ]
     },
     "execution_count": 12,
     "metadata": {
      "tags": []
     },
     "output_type": "execute_result"
    }
   ],
   "source": [
    "pred.head()"
   ]
  },
  {
   "cell_type": "code",
   "execution_count": 0,
   "metadata": {
    "colab": {},
    "colab_type": "code",
    "id": "y_0MKzHDm6FE"
   },
   "outputs": [],
   "source": [
    "pred.to_csv('H2o_with_outliers.csv', index=False, header=['id', 'price'])"
   ]
  },
  {
   "cell_type": "code",
   "execution_count": 0,
   "metadata": {
    "colab": {},
    "colab_type": "code",
    "id": "BuZdET-cm_dM"
   },
   "outputs": [],
   "source": []
  }
 ],
 "metadata": {
  "accelerator": "TPU",
  "colab": {
   "name": "H2o.ipynb",
   "provenance": []
  },
  "kernelspec": {
   "display_name": "Python 3",
   "language": "python",
   "name": "python3"
  },
  "language_info": {
   "codemirror_mode": {
    "name": "ipython",
    "version": 3
   },
   "file_extension": ".py",
   "mimetype": "text/x-python",
   "name": "python",
   "nbconvert_exporter": "python",
   "pygments_lexer": "ipython3",
   "version": "3.7.6"
  }
 },
 "nbformat": 4,
 "nbformat_minor": 1
}
